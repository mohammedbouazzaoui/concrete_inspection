{
 "cells": [
  {
   "cell_type": "markdown",
   "metadata": {},
   "source": [
    "# Moledetection\n",
    "\n"
   ]
  },
  {
   "cell_type": "code",
   "execution_count": 2,
   "metadata": {},
   "outputs": [],
   "source": [
    "# import all libraries needed for this notebook\n",
    "###############################################\n",
    "import os\n",
    "import numpy as np\n",
    "import pandas as pd \n",
    "import shutil\n",
    "\n",
    "import tensorflow as tf\n",
    "from tensorflow import keras\n",
    "from keras.preprocessing.image import ImageDataGenerator\n",
    "from keras.utils.np_utils import to_categorical\n",
    "import autokeras as ak\n",
    "\n",
    "from sklearn.preprocessing import LabelEncoder\n",
    "from sklearn.model_selection import train_test_split\n",
    "\n",
    "from PIL import Image\n",
    "\n",
    "# Classes to predict\n",
    "seven={\n",
    "                'nv':'Melanocytic nevi',\n",
    "                'mel':'Melanoma',\n",
    "                'bkl':'Benign keratosis-like lesions',\n",
    "                'bcc':'Basal cell carcinoma',\n",
    "                'akiec':'Actinic keratoses',\n",
    "                'vas':'Vascular lesions',\n",
    "                'df':'Dermatofibroma'\n",
    "                }"
   ]
  },
  {
   "cell_type": "code",
   "execution_count": 4,
   "metadata": {},
   "outputs": [
    {
     "ename": "OSError",
     "evalue": "[WinError 123] De syntaxis van de bestandsnaam, mapnaam of volumenaam is onjuist: '../pybin/images/i*'",
     "output_type": "error",
     "traceback": [
      "\u001b[1;31m---------------------------------------------------------------------------\u001b[0m",
      "\u001b[1;31mOSError\u001b[0m                                   Traceback (most recent call last)",
      "\u001b[1;32mc:\\Users\\bmadmin\\Desktop\\Octocat\\mohammedbouazzaoui\\mole_detection\\notebook\\testing.ipynb Cell 3'\u001b[0m in \u001b[0;36m<cell line: 7>\u001b[1;34m()\u001b[0m\n\u001b[0;32m      <a href='vscode-notebook-cell:/c%3A/Users/bmadmin/Desktop/Octocat/mohammedbouazzaoui/mole_detection/notebook/testing.ipynb#ch0000009?line=6'>7</a>\u001b[0m \u001b[39mfor\u001b[39;00m i \u001b[39min\u001b[39;00m [\u001b[39m'\u001b[39m\u001b[39makiec\u001b[39m\u001b[39m'\u001b[39m, \u001b[39m'\u001b[39m\u001b[39mbcc\u001b[39m\u001b[39m'\u001b[39m, \u001b[39m'\u001b[39m\u001b[39mbkl\u001b[39m\u001b[39m'\u001b[39m, \u001b[39m'\u001b[39m\u001b[39mdf\u001b[39m\u001b[39m'\u001b[39m, \u001b[39m'\u001b[39m\u001b[39mmel\u001b[39m\u001b[39m'\u001b[39m, \u001b[39m'\u001b[39m\u001b[39mnv\u001b[39m\u001b[39m'\u001b[39m, \u001b[39m'\u001b[39m\u001b[39mvas\u001b[39m\u001b[39m'\u001b[39m]:\n\u001b[0;32m      <a href='vscode-notebook-cell:/c%3A/Users/bmadmin/Desktop/Octocat/mohammedbouazzaoui/mole_detection/notebook/testing.ipynb#ch0000009?line=7'>8</a>\u001b[0m     path \u001b[39m=\u001b[39m \u001b[39m\"\u001b[39m\u001b[39m../pybin/images/i*\u001b[39m\u001b[39m\"\u001b[39m\n\u001b[1;32m----> <a href='vscode-notebook-cell:/c%3A/Users/bmadmin/Desktop/Octocat/mohammedbouazzaoui/mole_detection/notebook/testing.ipynb#ch0000009?line=8'>9</a>\u001b[0m     dir_list \u001b[39m=\u001b[39m os\u001b[39m.\u001b[39;49mlistdir(path)\n\u001b[0;32m     <a href='vscode-notebook-cell:/c%3A/Users/bmadmin/Desktop/Octocat/mohammedbouazzaoui/mole_detection/notebook/testing.ipynb#ch0000009?line=9'>10</a>\u001b[0m     stopcnt\u001b[39m=\u001b[39m\u001b[39m1\u001b[39m\n\u001b[0;32m     <a href='vscode-notebook-cell:/c%3A/Users/bmadmin/Desktop/Octocat/mohammedbouazzaoui/mole_detection/notebook/testing.ipynb#ch0000009?line=10'>11</a>\u001b[0m     \u001b[39mprint\u001b[39m(dir_list)\n",
      "\u001b[1;31mOSError\u001b[0m: [WinError 123] De syntaxis van de bestandsnaam, mapnaam of volumenaam is onjuist: '../pybin/images/i*'"
     ]
    }
   ],
   "source": [
    "\n",
    "# create an X and Y_cat for modelling\n",
    "######################################\n",
    "#\n",
    "\n",
    "# Get the list of all imagefiles with their subdirectory\n",
    "mergeinfo=[]\n",
    "for i in ['akiec', 'bcc', 'bkl', 'df', 'mel', 'nv', 'vas']:\n",
    "    path = \"../pybin/images/i*\"\n",
    "    dir_list = os.listdir(path)\n",
    "    stopcnt=1\n",
    "    print(dir_list)\n",
    "    break\n",
    "    for j in dir_list:\n",
    "        full=path + \"/\" + j\n",
    "        mergeinfo.append([i,full])\n",
    "        stopcnt-=1\n",
    "        if stopcnt == 0:\n",
    "            break \n",
    "    \n",
    "dfinfo=pd.DataFrame(mergeinfo, columns=['dx','path'])\n",
    "\n",
    "# encode categorical\n",
    "le = LabelEncoder()\n",
    "le.fit(dfinfo['dx'])\n",
    "dfinfo['label'] = le.transform(dfinfo[\"dx\"]) \n",
    "\n",
    "#Use the path to read images.\n",
    "SIZE=64\n",
    "dfinfo['image'] = dfinfo['path'].map(lambda x: np.asarray(Image.open(x).resize((SIZE,SIZE))))\n",
    "#Convert dataframe column of images into numpy array\n",
    "X = np.asarray(dfinfo['image'].tolist())\n",
    "X = X/255. # Scale values\n",
    "Y=dfinfo['label'] # Assign labelencoded values to Y (0 to 6)\n",
    "Y_cat = to_categorical(Y, num_classes=7) #Convert to categorical ex. 2 -becomes-> [0,0,1,0,0,0,0]\n",
    "\n",
    "#print(X.shape, Y_cat.shape)\n",
    "# output : X, Y_cat"
   ]
  },
  {
   "cell_type": "code",
   "execution_count": 3,
   "metadata": {},
   "outputs": [
    {
     "ename": "NameError",
     "evalue": "name 'X_test_augm' is not defined",
     "output_type": "error",
     "traceback": [
      "\u001b[1;31m---------------------------------------------------------------------------\u001b[0m",
      "\u001b[1;31mNameError\u001b[0m                                 Traceback (most recent call last)",
      "\u001b[1;32mc:\\Users\\bmadmin\\Desktop\\Octocat\\mohammedbouazzaoui\\mole_detection\\notebook\\testing.ipynb Cell 3'\u001b[0m in \u001b[0;36m<cell line: 8>\u001b[1;34m()\u001b[0m\n\u001b[0;32m      <a href='vscode-notebook-cell:/c%3A/Users/bmadmin/Desktop/Octocat/mohammedbouazzaoui/mole_detection/notebook/testing.ipynb#ch0000007?line=3'>4</a>\u001b[0m model \u001b[39m=\u001b[39m keras\u001b[39m.\u001b[39mmodels\u001b[39m.\u001b[39mload_model(\u001b[39m'\u001b[39m\u001b[39m../pybin/models/activemodel\u001b[39m\u001b[39m'\u001b[39m)\n\u001b[0;32m      <a href='vscode-notebook-cell:/c%3A/Users/bmadmin/Desktop/Octocat/mohammedbouazzaoui/mole_detection/notebook/testing.ipynb#ch0000007?line=5'>6</a>\u001b[0m \u001b[39m# If importing an external image you'll have to rescale it (so : divide by 225.)\u001b[39;00m\n\u001b[0;32m      <a href='vscode-notebook-cell:/c%3A/Users/bmadmin/Desktop/Octocat/mohammedbouazzaoui/mole_detection/notebook/testing.ipynb#ch0000007?line=6'>7</a>\u001b[0m \u001b[39m#The augmented data in X_test_augm is are already rescaled!\u001b[39;00m\n\u001b[1;32m----> <a href='vscode-notebook-cell:/c%3A/Users/bmadmin/Desktop/Octocat/mohammedbouazzaoui/mole_detection/notebook/testing.ipynb#ch0000007?line=7'>8</a>\u001b[0m img\u001b[39m=\u001b[39mnp\u001b[39m.\u001b[39mreshape(X_test_augm[\u001b[39m0\u001b[39m], (\u001b[39m-\u001b[39m\u001b[39m1\u001b[39m, \u001b[39m64\u001b[39m, \u001b[39m64\u001b[39m, \u001b[39m3\u001b[39m)) \n\u001b[0;32m      <a href='vscode-notebook-cell:/c%3A/Users/bmadmin/Desktop/Octocat/mohammedbouazzaoui/mole_detection/notebook/testing.ipynb#ch0000007?line=8'>9</a>\u001b[0m \u001b[39m#\u001b[39;00m\n\u001b[0;32m     <a href='vscode-notebook-cell:/c%3A/Users/bmadmin/Desktop/Octocat/mohammedbouazzaoui/mole_detection/notebook/testing.ipynb#ch0000007?line=9'>10</a>\u001b[0m y_pred\u001b[39m=\u001b[39mmodel\u001b[39m.\u001b[39mpredict(img)\n",
      "\u001b[1;31mNameError\u001b[0m: name 'X_test_augm' is not defined"
     ]
    }
   ],
   "source": [
    "# Do a testprediction\n",
    "###################\n",
    "#\n",
    "model = keras.models.load_model('../pybin/models/activemodel')\n",
    "\n",
    "# If importing an external image you'll have to rescale it (so : divide by 225.)\n",
    "#The augmented data in X_test_augm is are already rescaled!\n",
    "img=np.reshape(X_test_augm[0], (-1, 64, 64, 3)) \n",
    "#\n",
    "y_pred=model.predict(img)\n",
    "# print result\n",
    "print(y_pred)\n"
   ]
  },
  {
   "cell_type": "code",
   "execution_count": 7,
   "metadata": {},
   "outputs": [
    {
     "data": {
      "text/plain": [
       "array([0., 0., 0., 0., 0., 0., 1.], dtype=float32)"
      ]
     },
     "execution_count": 7,
     "metadata": {},
     "output_type": "execute_result"
    }
   ],
   "source": [
    "Y_test_augm[0]"
   ]
  }
 ],
 "metadata": {
  "interpreter": {
   "hash": "ad39fc4de9d0ed75de8360435f22c5c59caf607eb9db992e2697dd87e09bea1b"
  },
  "kernelspec": {
   "display_name": "Python 3.9.13 ('venv': venv)",
   "language": "python",
   "name": "python3"
  },
  "language_info": {
   "codemirror_mode": {
    "name": "ipython",
    "version": 3
   },
   "file_extension": ".py",
   "mimetype": "text/x-python",
   "name": "python",
   "nbconvert_exporter": "python",
   "pygments_lexer": "ipython3",
   "version": "3.9.13"
  }
 },
 "nbformat": 4,
 "nbformat_minor": 4
}
